{
 "cells": [
  {
   "cell_type": "markdown",
   "metadata": {
    "deletable": false,
    "editable": false
   },
   "source": [
    "<center> <h1> Lab 07 - Project - Mathematical Models: Designing a Roller Coaster </h1> </center>\n",
    " \n",
    "## Overview\n",
    "\n",
    "In this lab, we will apply our knowledge of Calculus to solve a real-world problem. \n",
    "\n",
    "### Important SageMath Commands Introduced in this Lab\n",
    "\n",
    "\\begin{array}{|l|l|l|}\n",
    "\\hline \n",
    "\\hfill \\textbf{Command} \\hfill & \\hfill \\textbf{Description} \\hfill & \\hfill \\textbf{Example} \\hfill \\\\\n",
    "\\hline\n",
    "\\textbf{piecewise}([(\\textit{domain 1}, \\textit{function 1}), \\dots]) & \\text{Creates a piecewise-defined function} & F = \\textbf{piecewise}([((-\\textit{infinity},0), x), ([0,0], x), ((0,\\textit{infinity}), x^2))\\\\\n",
    "\\hline\n",
    "F\\textbf{.critical_points()} & \\text{Finds the critical points of a}  & F\\textbf{.critical_points()} \\\\\n",
    " & \\text{$\\textbf{piecewise-defined}$ function} & \\\\\n",
    "\\hline\n",
    "\\end{array}\n",
    "\n",
    "### Related Course Material\n",
    "    Graphs, piecewise-defined functions, and properties of the first derivative."
   ]
  },
  {
   "cell_type": "markdown",
   "metadata": {
    "deletable": false,
    "editable": false
   },
   "source": [
    "## The Problem: Designing a Roller Coaster\n",
    "\n",
    "Suppose we are asked to design a simple ascent and drop roller coaster with an overall horizontal displacement of 200 feet. By studying pictures of our favorite roller coasters, we decide that our roller coater should begin the ascent along a line $y = f_1(x)$ of slope 1.5 for the first 20 ft horizontally. Next, it should continue the ascent and then begin the drop along a parabola $y = f_2(x) = ax^2 + bx + c$ for the next 100 ft horizontally. Finally, we want it to begin a soft landing at 30 ft above the ground along a cubic $y = f_3(x) = dx^3 + ex^2 + fx + g$ for the last 80 ft. The main task is to find $\\{a,b,c,d,e,f,g\\}$ that will ensure that the track is smooth at each transition point. We also would like to know the maximum height of the roller coaster."
   ]
  },
  {
   "cell_type": "markdown",
   "metadata": {
    "deletable": false,
    "editable": false
   },
   "source": [
    "We will begin by creating our functions. If we choose the origin as our starting point, then we know that $f_1(x) = 1.5x$ since it is a line with slope 1.5 that passes through $(0,0).$"
   ]
  },
  {
   "cell_type": "code",
   "execution_count": null,
   "metadata": {},
   "outputs": [],
   "source": [
    "var('a','b','c','d','e','f','g')\n",
    "def f1(x):\n",
    "    return 1.5*x\n",
    "def f2(x):\n",
    "    return a*x^2 + b*x + c\n",
    "def f3(x):\n",
    "    return d*x^3 + e*x^2 + f*x + g"
   ]
  },
  {
   "cell_type": "markdown",
   "metadata": {
    "deletable": false,
    "editable": false
   },
   "source": [
    "Since our roller coaster consists of three curves, it can be set up as a piecewise-defined function: $$F(x) = \\left \\{ \\begin{array}{ll} f_1(x) & 0 \\leq x \\leq 20 \\\\ f_2(x) & 20 < x \\leq 120 \\\\ f_3(x) & 120 < x \\leq 200 \\end{array} \\right. .$$ \n",
    "\n",
    "Before we create the function $F(x)$ in SageMath, we need to determine the values of $\\{a,b,c,d,e,f,g\\}$. In order for our track to be connected, we need to make sure that $F(x)$ is continuous. Therefore, we need to make sure that $f_1(20) = f_2(20)$ and $f_2(120) = f_3(120)$. "
   ]
  },
  {
   "cell_type": "code",
   "execution_count": null,
   "metadata": {},
   "outputs": [],
   "source": [
    "eq1 = f1(20) == f2(20)\n",
    "eq2 = f2(120) == f3(120)"
   ]
  },
  {
   "cell_type": "markdown",
   "metadata": {
    "deletable": false,
    "editable": false
   },
   "source": [
    "In order for our track to be smooth, we cannot have abrupt changes in direction, so the first derivative $F'(x)$ needs to be continuous. Therefore, we need to guarantee that $f_1'(20) = f_2'(20)$ and $f_2'(120) = f_3'(120).$"
   ]
  },
  {
   "cell_type": "code",
   "execution_count": null,
   "metadata": {},
   "outputs": [],
   "source": [
    "df1(x) = diff(f1(x),x)\n",
    "df2(x) = diff(f2(x),x)\n",
    "df3(x) = diff(f3(x),x)\n",
    "eq3 = df1(20) == df2(20)\n",
    "eq4 = df2(120) == df3(120)"
   ]
  },
  {
   "cell_type": "markdown",
   "metadata": {
    "deletable": false,
    "editable": false
   },
   "source": [
    "Since we want our roller coaster to begin a soft landing when it has traveled 120 ft horizonatally and is at a height of 30 ft, we need $f_3(120) = 30.$"
   ]
  },
  {
   "cell_type": "code",
   "execution_count": null,
   "metadata": {},
   "outputs": [],
   "source": [
    "eq5 = f3(120) == 30"
   ]
  },
  {
   "cell_type": "markdown",
   "metadata": {
    "deletable": false,
    "editable": false
   },
   "source": [
    "Finally, in order to have a soft landing, the track should be tangent to the ground at the end of the track."
   ]
  },
  {
   "cell_type": "code",
   "execution_count": null,
   "metadata": {},
   "outputs": [],
   "source": [
    "eq6 = f3(200) == 0\n",
    "eq7 = df3(200) == 0"
   ]
  },
  {
   "cell_type": "markdown",
   "metadata": {},
   "source": [
    "We now have a system of 7 equations in 7 unknowns which we can solve using the $\\textbf{solve}(\\cdots)$ command."
   ]
  },
  {
   "cell_type": "code",
   "execution_count": null,
   "metadata": {},
   "outputs": [],
   "source": [
    "show(solve([eq1, eq2, eq3, eq4, eq5, eq6, eq7], a,b,c,d,e,f,g))"
   ]
  },
  {
   "cell_type": "markdown",
   "metadata": {
    "deletable": false,
    "editable": false
   },
   "source": [
    "We have found the values for $\\{a,b,c,d,e,f,g\\}$ so that our roller coaster is smooth at each transition point."
   ]
  },
  {
   "cell_type": "code",
   "execution_count": null,
   "metadata": {},
   "outputs": [],
   "source": [
    "a = -3/200\n",
    "b = 21/10\n",
    "c = -6\n",
    "d = -3/25600\n",
    "e = 21/320\n",
    "f = -195/16\n",
    "g = 750"
   ]
  },
  {
   "cell_type": "markdown",
   "metadata": {
    "deletable": false,
    "editable": false
   },
   "source": [
    "Now that we have determined the values of $\\{a,b,c,d,e,f,g\\}$, we will create $F(x)$ in SageMath using the $\\textbf{piecewise}([(\\textit{domain 1}, \\textit{function 1}), \\dots])$ and then plot our roller coaster.\n",
    "\n",
    "Note: For syntax reasons, SageMath will only except intervals of the form $(x_1,x_2)$ and $[x_1,x_2]$. So, in order to specify a function on the domain $(x_1, x_2],$ we will have to use the interval $(x_1, x_2)$ and the interval $[x_2, x_2]$, which is simply the set consisting of only the point $x_2$."
   ]
  },
  {
   "cell_type": "code",
   "execution_count": null,
   "metadata": {},
   "outputs": [],
   "source": [
    "F = piecewise([([0,20], f1(x)), ((20,120), f2(x)), ([120, 120], f2(x)), ((120, 200), f3(x)), ([200, 200], f3(x))])"
   ]
  },
  {
   "cell_type": "markdown",
   "metadata": {
    "deletable": false,
    "editable": false
   },
   "source": [
    "Now that we have created $F(x)$, we plot it."
   ]
  },
  {
   "cell_type": "code",
   "execution_count": null,
   "metadata": {},
   "outputs": [],
   "source": [
    "plot(F(x), xmin = 0, xmax = 200, ymin = -50, ymax = 100)"
   ]
  },
  {
   "cell_type": "markdown",
   "metadata": {
    "deletable": false,
    "editable": false
   },
   "source": [
    "We now want to find the maximum height of the roller coaster. Recall that absolute maxima can only occur at endpoints and critical points. We can find the critical points of a piecewise-defined function in SageMath by using the $\\textbf{.critical_points()}$ command. \n",
    "\n",
    "Caution: The $\\textbf{diff}()$ command does not work correctly on piecewise functions in SageMath."
   ]
  },
  {
   "cell_type": "code",
   "execution_count": null,
   "metadata": {},
   "outputs": [],
   "source": [
    "F.critical_points()"
   ]
  },
  {
   "cell_type": "markdown",
   "metadata": {
    "deletable": false,
    "editable": false
   },
   "source": [
    "It follows that the maximum height of the roller coaster could occur at the $x$-values $0, 70, \\frac{520}{3},$ and $200$. From the graph, we can see that the maximum occurs at $x = 70.$ "
   ]
  },
  {
   "cell_type": "code",
   "execution_count": null,
   "metadata": {},
   "outputs": [],
   "source": [
    "F(70.0)"
   ]
  },
  {
   "cell_type": "markdown",
   "metadata": {
    "deletable": false,
    "editable": false
   },
   "source": [
    "Therefore, the maximum height of the roller coaster is 67.5 ft."
   ]
  },
  {
   "cell_type": "markdown",
   "metadata": {
    "deletable": false,
    "editable": false
   },
   "source": [
    "## Project\n",
    "\n",
    "Design a larger roller coaster meeting the specifications below and prepare a neat and complete project report as specified by the Project Report Guidelines located on the lab website. The due date will be specified by your TA.\n",
    "\n",
    "Suppose you are asked to build a roller coaster with an overall horizontal displacement of 600 feet. The coaster should ascend along a straight line $y = f_1(x)$ of slope 2.5 for the first 30ft horizontally. We continue along three cubics, $f_2(x) = ax^3 + bx^2 + cx + d,f_3(x) = ex^3 +fx^2 +gx +h,$ and $f_4(x) = ix^3 +jx^2 +kx +l$ for 150ft each. In addition, the coaster should be 210ft above the ground at the 120ft mark, reach a bottom of 37.5ft above the ground at the 270ft mark, and reach a peak 97.5ft above the ground at the 390ft mark. Finally, the coaster should start a soft landing 45ft above the ground along a cubic $f_5(x) = mx^3 + nx^2 + ox + p$ for the last 120ft.\n",
    "\n",
    "Your task is to:\n",
    "1. Write a system of 16 equations in 16 unknowns such that your track is both continuous and smooth. Make sure to include your equations in your report and you must explain the reasoning for your equations in your report.\n",
    "\n",
    "2. Solve the equations in (1) with SageMath to find the values $a$-$p$.\n",
    "3. Define and plot a piecewise-defined function, $F(x)$, for your roller coaster. Include the equation for your completed piecewise-defined function (with all values $a$-$p$ plugged in) as well as the graph of your roller coaster. Be sure to use the same scalar for both $x$ and $y$.\n",
    "4. Find the maximum height of your roller coaster and the mark where it occurred.\n",
    "\n",
    "## Extra Credit\n",
    "\n",
    "Design a more interesting roller coaster of your own."
   ]
  },
  {
   "cell_type": "code",
   "execution_count": null,
   "metadata": {},
   "outputs": [],
   "source": []
  }
 ],
 "metadata": {
  "celltoolbar": "Edit Metadata",
  "kernelspec": {
   "display_name": "SageMath 9.2",
   "language": "sage",
   "name": "sagemath"
  },
  "language_info": {
   "codemirror_mode": {
    "name": "ipython",
    "version": 3
   },
   "file_extension": ".py",
   "mimetype": "text/x-python",
   "name": "python",
   "nbconvert_exporter": "python",
   "pygments_lexer": "ipython3",
   "version": "3.8.5"
  }
 },
 "nbformat": 4,
 "nbformat_minor": 2
}
