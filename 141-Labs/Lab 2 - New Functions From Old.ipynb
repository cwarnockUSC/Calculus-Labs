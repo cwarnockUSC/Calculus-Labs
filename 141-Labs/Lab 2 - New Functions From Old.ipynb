{
 "cells": [
  {
   "cell_type": "markdown",
   "metadata": {},
   "source": [
    " <center> <h1> New Functions From Old </h1> </center> \n",
    " \n",
    "## Overview\n",
    "\n",
    "In this lab, we will use Sage to create functions and then use these functions to create new funcitons. Also, we will learn how to simplify and expand expressions and how to evaluate them at given values.\n",
    "\n",
    "Important Sage commands introduced in this lab:\n",
    "\n",
    "\\begin{array}{|l|l|l|}\n",
    "\\hline \n",
    "\\hfill \\hspace{.7in} \\textbf{Command} \\hspace{.7in} \\hfill & \\hfill \\hspace{.7in} \\textbf{Description} \\hspace{.7in} \\hfill & \\hfill \\hspace{.7in} \\textbf{Example} \\hspace{.7in} \\hfill \\\\\n",
    "\\hline\n",
    "  \\color{green}{\\text{def}} \\textbf{ f(x):} & \\text{Creates the function $f(x) = $ expression} & \\color{green}{\\text{def}} \\textbf{ f(x):}\\\\\n",
    "  \\ \\ \\ \\ \\ \\ \\color{green}{\\text{return}} \\textit{ expression} &  & \\ \\ \\ \\ \\ \\ \\color{green}{\\text{return}} \\ x^2\\\\\n",
    "  \\hline\n",
    "  \\textbf{expand}(\\textit{expression}) & \\text{Expands the function or expression} & \\textbf{expand}(x-(x-1)^8) \\\\\n",
    "  \\hline\n",
    "  \\textbf{var}(`\\textit{letter'}) & \\text{Makes the letter or word a variable} & h = \\textbf{var}(`h\\text{'}) \\\\\n",
    "  \\hline\n",
    "  \\textit{expression}\\textbf{.substitute}(h=a) & \\text{Substitutes the number $a$ in for $h$ in the expression} & ((x-1)^2+1)\\textbf{.substitute}(x=1) \\\\\n",
    "  \\hline\n",
    "\\end{array}\n",
    "\n",
    "### Related Course Material:\n",
    "    Section 1.2"
   ]
  },
  {
   "cell_type": "markdown",
   "metadata": {},
   "source": [
    "## Example 1\n",
    "Suppose $f(x)$ and $g(x)$ are functions. There are countless ways to combine these functions to create a new function. Some basic examples of this are $f(x) + g(x)$, $f(x) - g(x)$, $f(x)g(x)$, $\\dfrac{f(x)}{g(x)}$ and $f(g(x))$.\n",
    "\n",
    "We first use Sage to set $f(x) = 2\\sqrt{x-1}$ and $g(x) = \\sqrt[3]{x+3}$. "
   ]
  },
  {
   "cell_type": "code",
   "execution_count": null,
   "metadata": {},
   "outputs": [],
   "source": [
    "def f(x):\n",
    "    return #Insert your code here\n",
    "def g(x):\n",
    "    return #Insert your code here"
   ]
  },
  {
   "cell_type": "markdown",
   "metadata": {},
   "source": [
    "Now, we will use $f(x)$ and $g(x)$ to create the five new functions $f(x) + g(x)$, $f(x) - g(x)$, $f(x)g(x)$, $\\dfrac{f(x)}{g(x)}$ and $f(g(x))$."
   ]
  },
  {
   "cell_type": "code",
   "execution_count": null,
   "metadata": {},
   "outputs": [],
   "source": [
    "f(x) + g(x)"
   ]
  },
  {
   "cell_type": "code",
   "execution_count": null,
   "metadata": {},
   "outputs": [],
   "source": [
    "f(x) - g(x)"
   ]
  },
  {
   "cell_type": "code",
   "execution_count": null,
   "metadata": {},
   "outputs": [],
   "source": [
    "#Insert your code here"
   ]
  },
  {
   "cell_type": "code",
   "execution_count": null,
   "metadata": {},
   "outputs": [],
   "source": [
    "#Insert your code here"
   ]
  },
  {
   "cell_type": "code",
   "execution_count": null,
   "metadata": {},
   "outputs": [],
   "source": [
    "#Insert your code here"
   ]
  },
  {
   "cell_type": "markdown",
   "metadata": {},
   "source": [
    "Observe how Sage automatically simplifies the output if it can be simplified.\n",
    "\n",
    "## Example 2\n",
    "\n",
    "Repeat Example 1 using the functions $f(x) = 1 + \\frac{x}{x+1}$ and $g(x) = 2 - \\frac{1}{x}$."
   ]
  },
  {
   "cell_type": "code",
   "execution_count": null,
   "metadata": {},
   "outputs": [],
   "source": [
    "#Insert your code here"
   ]
  },
  {
   "cell_type": "code",
   "execution_count": null,
   "metadata": {},
   "outputs": [],
   "source": [
    "#Insert your code here"
   ]
  },
  {
   "cell_type": "code",
   "execution_count": null,
   "metadata": {},
   "outputs": [],
   "source": [
    "#Insert your code here"
   ]
  },
  {
   "cell_type": "code",
   "execution_count": null,
   "metadata": {},
   "outputs": [],
   "source": [
    "#Insert your code here"
   ]
  },
  {
   "cell_type": "code",
   "execution_count": null,
   "metadata": {},
   "outputs": [],
   "source": [
    "#Insert your code here"
   ]
  },
  {
   "cell_type": "code",
   "execution_count": null,
   "metadata": {},
   "outputs": [],
   "source": [
    "#Insert your code here"
   ]
  },
  {
   "cell_type": "markdown",
   "metadata": {},
   "source": [
    "## Example 3\n",
    "\n",
    "Now, set $f(x) = x^2 + 1$ and find the new functions $f(5x+2), 3f(1/x),$ and $f(f(f(x)))$."
   ]
  },
  {
   "cell_type": "code",
   "execution_count": null,
   "metadata": {},
   "outputs": [],
   "source": [
    "#Insert your code here"
   ]
  },
  {
   "cell_type": "code",
   "execution_count": null,
   "metadata": {},
   "outputs": [],
   "source": [
    "#Insert your code here"
   ]
  },
  {
   "cell_type": "code",
   "execution_count": null,
   "metadata": {},
   "outputs": [],
   "source": [
    "#Insert your code here"
   ]
  },
  {
   "cell_type": "code",
   "execution_count": null,
   "metadata": {},
   "outputs": [],
   "source": [
    "#Insert your code here"
   ]
  },
  {
   "cell_type": "markdown",
   "metadata": {},
   "source": [
    "Note that both $f(5x+2)$ and $f(f(f(x)))$ are polynomials. By default, Sage simplifies each output, so it will leave them in their factored or compact form. If we want to expand the polynomial, we can use the $\\textbf{expand}(\\textit{expression})$ command."
   ]
  },
  {
   "cell_type": "code",
   "execution_count": null,
   "metadata": {},
   "outputs": [],
   "source": [
    "expand(f(5*x+2))"
   ]
  },
  {
   "cell_type": "code",
   "execution_count": null,
   "metadata": {},
   "outputs": [],
   "source": [
    "expand(#Insert your code here)"
   ]
  },
  {
   "cell_type": "markdown",
   "metadata": {},
   "source": [
    "## Example 4\n",
    "\n",
    "Recall that the difference quotient of a function is the expression $\\dfrac{f(x+h) - f(x)}{h}$. We will use Sage to simplify this expression for the function $f(x) = 5x^3 + 2x + 1$. First, create the function $f(x)$ below."
   ]
  },
  {
   "cell_type": "code",
   "execution_count": null,
   "metadata": {},
   "outputs": [],
   "source": [
    "#Insert your code here"
   ]
  },
  {
   "cell_type": "markdown",
   "metadata": {},
   "source": [
    "In order for Sage to simplify the difference quotient, we need to tell Sage that $h$ is also a variable like $x$. We do this by using the $\\textbf{var}(`letter\\textit{'})$ command."
   ]
  },
  {
   "cell_type": "code",
   "execution_count": null,
   "metadata": {},
   "outputs": [],
   "source": [
    "h = var('h')"
   ]
  },
  {
   "cell_type": "markdown",
   "metadata": {},
   "source": [
    "Now, Sage will treat $h$ like a variable. Below, simplify the difference quotient of $f(x)$ and assign this expression to the name DiffQuot. Once simplified, the expressions should be a polynomial."
   ]
  },
  {
   "cell_type": "code",
   "execution_count": null,
   "metadata": {},
   "outputs": [],
   "source": [
    "DiffQuot = #Insert your code here\n",
    "DiffQuot"
   ]
  },
  {
   "cell_type": "markdown",
   "metadata": {},
   "source": [
    "Suppose we wish to evaluate this new expression when $h=0$. We can do this by using the Sage command $\\textit{expression}\\textbf{.substitute}(h=a)$, where $a$ is the number we wish to replace $h$ with. "
   ]
  },
  {
   "cell_type": "code",
   "execution_count": null,
   "metadata": {},
   "outputs": [],
   "source": [
    "DiffQuot.substitute(h=0)"
   ]
  },
  {
   "cell_type": "markdown",
   "metadata": {},
   "source": [
    "Caution: This type of command is different than all of the commands that we have used so far because it follows the expression instead of the expression being plugged in to it.\n",
    "\n",
    "## Example 5\n",
    "\n",
    "Repeat Example 4 using the function $f(x) = \\dfrac{1}{(x+1)^2}$."
   ]
  },
  {
   "cell_type": "code",
   "execution_count": null,
   "metadata": {},
   "outputs": [],
   "source": [
    "#Insert your code here"
   ]
  },
  {
   "cell_type": "code",
   "execution_count": null,
   "metadata": {},
   "outputs": [],
   "source": [
    "#Insert your code here"
   ]
  },
  {
   "cell_type": "markdown",
   "metadata": {},
   "source": [
    "## Example 6\n",
    "\n",
    "Find and simplify $f(g(x))$, $g(f(x))$, $f(g(f(x)))$ and $g(f(x) + g(x))$ for the following choices of $f(x)$ and $g(x)$.\n",
    "1. $f(x) = \\sqrt{2x + 3}$ and $g(x) = x^2 + 1$"
   ]
  },
  {
   "cell_type": "code",
   "execution_count": null,
   "metadata": {},
   "outputs": [],
   "source": [
    "#Insert your code here"
   ]
  },
  {
   "cell_type": "code",
   "execution_count": null,
   "metadata": {},
   "outputs": [],
   "source": [
    "#Insert your code here"
   ]
  },
  {
   "cell_type": "code",
   "execution_count": null,
   "metadata": {},
   "outputs": [],
   "source": [
    "#Insert your code here"
   ]
  },
  {
   "cell_type": "code",
   "execution_count": null,
   "metadata": {},
   "outputs": [],
   "source": [
    "#Insert your code here"
   ]
  },
  {
   "cell_type": "markdown",
   "metadata": {},
   "source": [
    "2. $f(x) = \\dfrac{x+1}{x-1}$ and $g(x) = \\dfrac{x}{1-x}$"
   ]
  },
  {
   "cell_type": "code",
   "execution_count": null,
   "metadata": {},
   "outputs": [],
   "source": [
    "#Insert your code here"
   ]
  },
  {
   "cell_type": "code",
   "execution_count": null,
   "metadata": {},
   "outputs": [],
   "source": [
    "#Insert your code here"
   ]
  },
  {
   "cell_type": "code",
   "execution_count": null,
   "metadata": {},
   "outputs": [],
   "source": [
    "#Insert your code here"
   ]
  },
  {
   "cell_type": "code",
   "execution_count": null,
   "metadata": {},
   "outputs": [],
   "source": [
    "#Insert your code here"
   ]
  },
  {
   "cell_type": "markdown",
   "metadata": {},
   "source": [
    "## Example 7\n",
    "\n",
    "Express each $F(x)$ as a composition of three functions; that is, find $f(x)$, $g(x)$, and $h(x)$ such that $F(x) = f(g(h(x))).$ Be sure to check your composition.\n",
    "1. $F(x) = 2 + \\sqrt{1 - x^{1/3}}$"
   ]
  },
  {
   "cell_type": "code",
   "execution_count": null,
   "metadata": {},
   "outputs": [],
   "source": [
    "#Insert your code here"
   ]
  },
  {
   "cell_type": "markdown",
   "metadata": {},
   "source": [
    "2. $F(x) = \\sin(5 + \\sqrt{x})^2$"
   ]
  },
  {
   "cell_type": "code",
   "execution_count": null,
   "metadata": {},
   "outputs": [],
   "source": [
    "#Insert your code here"
   ]
  }
 ],
 "metadata": {
  "kernelspec": {
   "display_name": "SageMath 9.1",
   "language": "sage",
   "name": "sagemath"
  },
  "language_info": {
   "codemirror_mode": {
    "name": "ipython",
    "version": 3
   },
   "file_extension": ".py",
   "mimetype": "text/x-python",
   "name": "python",
   "nbconvert_exporter": "python",
   "pygments_lexer": "ipython3",
   "version": "3.7.3"
  }
 },
 "nbformat": 4,
 "nbformat_minor": 2
}
