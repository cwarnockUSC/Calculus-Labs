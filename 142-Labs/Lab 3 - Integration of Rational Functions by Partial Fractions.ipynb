{
 "cells": [
  {
   "cell_type": "markdown",
   "metadata": {},
   "source": [
    "<center> <h1> Integration of Rational Functions by Partial Fractions </h1> </center>\n",
    " \n",
    "## Overview\n",
    "\n",
    "In this lab, we will explore writing a rational function as a sum of simpler rational functions which can be easily integrated. For complicated partial fractions, we may also need to complete the square before integrating.\n",
    "\n",
    "### Important Sage Commands Introduced in this Lab\n",
    "\n",
    "\\begin{array}{|l|l|l|}\n",
    "\\hline \n",
    "\\hfill \\textbf{Command} \\hfill & \\hfill \\textbf{Description} \\hfill & \\hfill \\textbf{Example} \\hfill \\\\\n",
    "\\hline\n",
    "f(x).\\textbf{partial_fraction()} & \\text{Converts a rational function $f(x)$ into its partial fraction form} & (1/(x^2 - x)).\\textbf{partial_fraction()} \\\\\n",
    "\\hline\n",
    "\\end{array}\n",
    "\n",
    "### Related Course Material\n",
    "    Section 8.5"
   ]
  },
  {
   "cell_type": "markdown",
   "metadata": {},
   "source": [
    "## Example 1\n",
    "\n",
    "We will use Sage to verify our partial fraction decomposition and our integration of the rational function $f(x) = \\dfrac{2}{(x+1)(x-1)}.$ First, we define $f(x)$ in Sage. "
   ]
  },
  {
   "cell_type": "code",
   "execution_count": 18,
   "metadata": {},
   "outputs": [],
   "source": [
    "def f(x):\n",
    "    return 2 / ((x+1) * (x-1))"
   ]
  },
  {
   "cell_type": "markdown",
   "metadata": {},
   "source": [
    "Before using Sage to find the partial fraction decomposition of $f(x)$, write down the general form. Then, use the $\\textbf{partial_fraction()}$ command to check your general form."
   ]
  },
  {
   "cell_type": "code",
   "execution_count": 19,
   "metadata": {},
   "outputs": [
    {
     "data": {
      "text/html": [
       "<html><script type=\"math/tex; mode=display\">\\newcommand{\\Bold}[1]{\\mathbf{#1}}-\\frac{1}{x + 1} + \\frac{1}{x - 1}</script></html>"
      ],
      "text/plain": [
       "-1/(x + 1) + 1/(x - 1)"
      ]
     },
     "metadata": {},
     "output_type": "display_data"
    }
   ],
   "source": [
    "show(f(x).partial_fraction())"
   ]
  },
  {
   "cell_type": "markdown",
   "metadata": {},
   "source": [
    "Now, use pencil and paper to integerate the function. Then use Sage to complete the integration and check your answer. Remember that Sage uses $\\textbf{log(x)}$ in place of $\\textbf{ln(x)}$."
   ]
  },
  {
   "cell_type": "code",
   "execution_count": 23,
   "metadata": {},
   "outputs": [
    {
     "data": {
      "text/html": [
       "<html><script type=\"math/tex; mode=display\">\\newcommand{\\Bold}[1]{\\mathbf{#1}}-\\log\\left(x + 1\\right) + \\log\\left(x - 1\\right)</script></html>"
      ],
      "text/plain": [
       "-log(x + 1) + log(x - 1)"
      ]
     },
     "metadata": {},
     "output_type": "display_data"
    }
   ],
   "source": [
    "show(integrate(f(x),x))"
   ]
  },
  {
   "cell_type": "markdown",
   "metadata": {},
   "source": [
    "## Example 2\n",
    "\n",
    "Repeat Example 1 with the following functions:\n",
    "1. $f1(x) = \\dfrac{2x + 1}{x^2 + 2x + 1}$\n",
    "2. $f2(x) = \\dfrac{x^2}{x(x^2 + 2x + 1)}$\n",
    "3. $f3(x) = \\dfrac{2x + 2}{(x^2 + 1)(x-1)^3}$\n",
    "4. $f4(x) = \\dfrac{9x^3 - 3x + 1}{x^3 - x^2}$\n",
    "5. $f5(x) = \\dfrac{x^4 + x^2 - 1}{x^3 + x}$\n",
    "6. $f6(x) = \\dfrac{x^2 - x + 4}{x^3 - 8}$"
   ]
  },
  {
   "cell_type": "code",
   "execution_count": null,
   "metadata": {},
   "outputs": [],
   "source": []
  }
 ],
 "metadata": {
  "kernelspec": {
   "display_name": "SageMath 8.9",
   "language": "sage",
   "name": "sagemath"
  },
  "language_info": {
   "codemirror_mode": {
    "name": "ipython",
    "version": 2
   },
   "file_extension": ".py",
   "mimetype": "text/x-python",
   "name": "python",
   "nbconvert_exporter": "python",
   "pygments_lexer": "ipython2",
   "version": "2.7.15"
  }
 },
 "nbformat": 4,
 "nbformat_minor": 2
}
