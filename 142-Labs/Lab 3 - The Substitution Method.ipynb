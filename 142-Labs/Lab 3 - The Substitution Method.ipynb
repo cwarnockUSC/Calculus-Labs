{
 "cells": [
  {
   "cell_type": "markdown",
   "metadata": {},
   "source": [
    "<center> <h1> The Substitution Method </h1> </center>\n",
    " \n",
    "## Overview\n",
    "\n",
    "In this lab, we will use Sage to perform u-substitutions for both indefinite and definite integrals.\n",
    "\n",
    "### Important Sage Commands Introduced in this Lab\n",
    "\n",
    "\\begin{array}{|l|l|l|}\n",
    "\\hline \n",
    "\\hfill \\textbf{Command} \\hfill & \\hfill \\textbf{Description} \\hfill & \\hfill \\textbf{Example} \\hfill \\\\\n",
    "\\hline\n",
    "eqn\\textbf{.rhs()} & \\text{Returns the right hand side of the equations} & (x == u^3)\\textbf{.rhs()} \\\\\n",
    "\\hline\n",
    "\\textbf{solve(eqn, var)} & \\text{Solves an equation for the given variable} & \\textbf{solve($u == x^3$, $x$)} \\\\\n",
    "\\hline\n",
    "[\\dots]\\textbf{[-1]} & \\text{Returns the last element of the list} & [1.5, 32, \\pi]\\textbf{[-1]} \\\\\n",
    "\\hline\n",
    "expr\\textbf{.substitute(x = expr2)} & \\text{Substitutes $\\textit{expr2}$ in for $x$ in $\\textit{expr}$} & (x + 1)\\textbf{.substitute(x = u^2 + 3)} \\\\\n",
    "\\hline\n",
    "\\end{array}\n",
    "\n",
    "### Related Course Material\n",
    "    Section 5.5"
   ]
  },
  {
   "cell_type": "markdown",
   "metadata": {},
   "source": [
    "## Example 1\n",
    "\n",
    "Let us calculate the indefinite integral $\\displaystyle \\int x^2e^{x^3} \\ dx$ by using u-substitution. First, we must decide what substitution to make. Since $x^3$ is the inside function and its derivate $3x^2$ appears in the integrand, up to a constant multiple, then we should let $u = x^3.$ We can use Sage to handle the u-substitution for us. We start by defining $f(x)$ as our integrand and $u$ as $x^3$ and then calculating $du$."
   ]
  },
  {
   "cell_type": "code",
   "execution_count": null,
   "metadata": {},
   "outputs": [],
   "source": [
    "u = var('u')     ## This is to define u as a variable\n",
    "def f(x):\n",
    "    return x^2 * e^(x^3)\n",
    "sub = u == x^3     ## We write u == x^3 in order to tell Sage that this is an equation\n",
    "du = diff(sub.rhs(),x)  ## This defines du as the derivative of the right hand side of the equation, u = x^3, with respect to x"
   ]
  },
  {
   "cell_type": "markdown",
   "metadata": {},
   "source": [
    "Now, we need to substitute both $u$ and $du$ into our original integral. In order to do this, we first need to solve for $u$ in terms of $x$. In this example, it can easily be done by hand to obtain $x = u^{1/3}.$ We can also use Sage to obtain the same result using the $\\textbf{solve}$ command."
   ]
  },
  {
   "cell_type": "code",
   "execution_count": null,
   "metadata": {
    "scrolled": true
   },
   "outputs": [],
   "source": [
    "solve(sub, x)"
   ]
  },
  {
   "cell_type": "markdown",
   "metadata": {},
   "source": [
    "Note that Sage returns both real and complex solutions to the equation $u = x^3$ when solving for $x$. The good news is that Sage will always list the solution we want as the last option. Therefore, we can simply return the final option as our choice for the substitution. One way to do this in Sage is to append $\\textbf{[-1]}$ at the end of a list of multiple elements and Sage will return the last element."
   ]
  },
  {
   "cell_type": "code",
   "execution_count": null,
   "metadata": {},
   "outputs": [],
   "source": [
    "solve(sub, x)[-1]"
   ]
  },
  {
   "cell_type": "markdown",
   "metadata": {},
   "source": [
    "Sage returns $x = u^{1/3}$ as desired. Now we can use Sage to substitute both $u$ and $du$ into our original integral."
   ]
  },
  {
   "cell_type": "code",
   "execution_count": null,
   "metadata": {},
   "outputs": [],
   "source": [
    "g(u) = (f(x)/du).substitute(solve(sub,x)[-1])\n",
    "g(u)"
   ]
  },
  {
   "cell_type": "markdown",
   "metadata": {},
   "source": [
    "Therfore, our new integrand is $\\dfrac{1}{3}e^u$. We can have Sage display the new integral by using the $\\textbf{integrate}$ command along with the parameter $\\textbf{hold = true}$ which will keep Sage from evaluating the integral."
   ]
  },
  {
   "cell_type": "code",
   "execution_count": null,
   "metadata": {},
   "outputs": [],
   "source": [
    "show(integrate(g(u),u,hold = true))"
   ]
  },
  {
   "cell_type": "markdown",
   "metadata": {},
   "source": [
    "It follows that under the u-substitution $u = x^3$, we have $$\\displaystyle \\int x^2 e^{x^3} \\ dx = \\int \\dfrac{1}{3} e^u \\ du.$$ Now, we can integrate the right integral easily by hand. We see that $$\\displaystyle \\int \\dfrac{1}{3} e^u \\ du = \\dfrac{1}{3} e^u + C.$$ Finally, we write our final answer back in terms of $x$ since that was our starting variable. Hence, we have that $$\\displaystyle \\int x^2 e^{x^3} \\ dx = \\dfrac{1}{3} e^{x^3} + C.$$"
   ]
  },
  {
   "cell_type": "markdown",
   "metadata": {},
   "source": [
    "## Example 2\n",
    "\n",
    "Let us use u-substitition to evalaute $\\displaystyle \\int 2x(x^2 + 5)^{-4} \\ dx$. We can again use Sage to perform the u-substitution by repeating the steps in Example 1 with a new integrand $f(x)$ and new $u$. In order to save time for future examples, we can package all of the steps together into a function which we will call $\\textbf{u_sub(f, sub)}$."
   ]
  },
  {
   "cell_type": "code",
   "execution_count": null,
   "metadata": {},
   "outputs": [],
   "source": [
    "def u_sub(f, sub): \n",
    "    u = var('u')\n",
    "    du = diff(sub.rhs(),x)\n",
    "    g(u) = (f(x)/du).substitute(solve(sub,x)[-1]).expand()\n",
    "    return show(integrate(g(u),u,hold = true))"
   ]
  },
  {
   "cell_type": "markdown",
   "metadata": {},
   "source": [
    "Before we use $\\textbf{u_sub}$ to solve our new problem, let's verify that it works by using it on the integral from Example 1."
   ]
  },
  {
   "cell_type": "code",
   "execution_count": null,
   "metadata": {},
   "outputs": [],
   "source": [
    "def f(x):\n",
    "    return x^2 * e^(x^3)\n",
    "u_sub(f, u == x^3)"
   ]
  },
  {
   "cell_type": "markdown",
   "metadata": {},
   "source": [
    "It works! Now let us try it with the integral $\\displaystyle \\int 2x(x^2 + 5)^{-4} \\ dx$. We have that $f(x) = 2x(x^2 + 5)^{-4}$ and $u = x^2 + 5$. We now use $\\textbf{u_sub}$ to rewrite the integral in terms of $u$."
   ]
  },
  {
   "cell_type": "code",
   "execution_count": null,
   "metadata": {},
   "outputs": [],
   "source": [
    "def f(x):\n",
    "    return 2*x*(x^2 + 5)^(-4)\n",
    "u_sub(f, u == x^2 + 5)"
   ]
  },
  {
   "cell_type": "markdown",
   "metadata": {},
   "source": [
    "Now, we should be able to integrate the new integral without much trouble and get $$\\displaystyle \\int \\dfrac{1}{u^4} \\ du = -\\dfrac{1}{3u^3} + C.$$ To get our final answer, we replace $u$ with $x^2 + 5$ to get $$\\displaystyle \\int 2x(x^2 + 5)^{-4} \\ dx = -\\dfrac{1}{3(x^2 + 5)^3} + C.$$ We can check our final answer in Sage by using the normal $\\textbf{integrate}$ command. (Don't forget that Sage does not include the $+ C$.)"
   ]
  },
  {
   "cell_type": "code",
   "execution_count": null,
   "metadata": {},
   "outputs": [],
   "source": [
    "show(integrate(f(x),x))"
   ]
  },
  {
   "cell_type": "markdown",
   "metadata": {},
   "source": [
    "## Example 3\n",
    "\n",
    "Now suppose we wish to evaluate the definite integral $$\\displaystyle \\int_{-1}^1 3x^2\\sqrt{x^3 + 1} \\ dx.$$ We now not only need to rewrite the integrand in terms of $u$, we also have to change the bounds to be in terms of $u$. We can use a modified version of the $\\textbf{u_sub}$ function above to accomplish this."
   ]
  },
  {
   "cell_type": "code",
   "execution_count": null,
   "metadata": {},
   "outputs": [],
   "source": [
    "def u_sub_with_bounds(f, sub, a, b):\n",
    "    u= var('u')\n",
    "    new_a = sub.rhs().substitute(x=a)     ## Rewrites a in terms of u\n",
    "    new_b = sub.rhs().substitute(x=b)     ## Rewrites b in terms of u\n",
    "    du = diff(sub.rhs(),x)\n",
    "    g(u) = (f(x)/du).substitute(solve(sub,x)[-1]).expand()\n",
    "    return show(integrate(g(u),u,new_a, new_b, hold = true))"
   ]
  },
  {
   "cell_type": "markdown",
   "metadata": {},
   "source": [
    "We can now use $\\textbf{u_sub_with_bounds}$ to perform a u-substitution on the integral above with integrand $f(x) = 3x^2\\sqrt{x^3 + 1}$ and $u = x^3 + 1$."
   ]
  },
  {
   "cell_type": "code",
   "execution_count": null,
   "metadata": {},
   "outputs": [],
   "source": [
    "def f(x):\n",
    "    return 3*x^2 * sqrt(x^3 + 1)\n",
    "u_sub_with_bounds(f, u == x^3 + 1, -1, 1)"
   ]
  },
  {
   "cell_type": "markdown",
   "metadata": {},
   "source": [
    "We are able to solve this definite integral since we know the antiderivative of $\\sqrt{u}$.  $$\\displaystyle \\int_0^2 \\sqrt{u} \\ du = \\dfrac{2}{3}u^{3/2} \\biggr \\rvert_0^2 = \\dfrac{2}{3}(2^{3/2} - 0^{3/2}) = \\dfrac{4\\sqrt{2}}{3}.$$ We can use Sage to verify our answer by using the $\\textbf{integrate}$ command with our original integrand and bounds."
   ]
  },
  {
   "cell_type": "code",
   "execution_count": null,
   "metadata": {},
   "outputs": [],
   "source": [
    "show(integrate(f(x),x,-1,1))"
   ]
  },
  {
   "cell_type": "markdown",
   "metadata": {},
   "source": [
    "## Example 4\n",
    "\n",
    "Use the functions $\\textbf{u_sub}$ and $\\textbf{u_sub_with_bounds}$ to simply the following integrals by using u-substitition. Then solve the integrals by hand using their simplified form. Lastly, use Sage to verify that your answer is correct.\n",
    "1. $\\displaystyle \\int (3x + 2)(3x^2 + 4x)^4 \\ dx$\n",
    "2. $\\displaystyle \\int \\sqrt{x} \\sin(x^{3/2} - 1) \\ dx$\n",
    "3. $\\displaystyle \\int 3x^5\\sqrt{x^3 + 1}\\ dx$\n",
    "4. $\\displaystyle \\int_0^\\sqrt{7} x(x^2 + 1)^{1/3} \\ dx$\n",
    "5. $\\displaystyle \\int_0^{\\pi/4} \\left(1 + e^{\\tan(x)}\\right) \\sec^2(x) \\ dx$\n",
    "6. $\\displaystyle \\int_e^{e^3} \\dfrac{1}{x(\\ln(x))^2} \\ dx$"
   ]
  },
  {
   "cell_type": "code",
   "execution_count": null,
   "metadata": {},
   "outputs": [],
   "source": []
  },
  {
   "cell_type": "code",
   "execution_count": null,
   "metadata": {},
   "outputs": [],
   "source": []
  },
  {
   "cell_type": "code",
   "execution_count": null,
   "metadata": {},
   "outputs": [],
   "source": []
  },
  {
   "cell_type": "code",
   "execution_count": null,
   "metadata": {},
   "outputs": [],
   "source": []
  },
  {
   "cell_type": "code",
   "execution_count": null,
   "metadata": {},
   "outputs": [],
   "source": []
  },
  {
   "cell_type": "code",
   "execution_count": null,
   "metadata": {},
   "outputs": [],
   "source": []
  },
  {
   "cell_type": "markdown",
   "metadata": {},
   "source": [
    "## (I don't think Trig Sub will work as well as u-sub  in Sage)\n",
    "\n",
    "Another technique of integration which uses substitution is trigonometric substitution, or trig sub. In these type of problems, we are replacing our starting variable $x$ with a trig expression, which at first seems to make the integral more complicated. However, if we choose the right trig expression, we can use various trig identities to greatly simplify the integrand.\n",
    "\n",
    "Let's consider the integral $\\displaystyle \\int \\dfrac{1}{\\sqrt{4 + x^2}} \\ dx.$ Note that by making the substitution $x = 2\\tan(\\theta)$ and the substitution $dx = 2\\sec^2(\\theta) d\\theta$ on the interval $-\\frac{\\pi}{2} < \\theta < \\frac{\\pi}{2}$, we obtain the integral $$\\int \\dfrac{2\\sec^2(\\theta)}{\\sqrt{4 + 4\\tan^2(\\theta)}} \\ d\\theta = \\int \\dfrac{2\\sec^2(\\theta)}{\\sqrt{4(1 + \\tan^2(\\theta)}} \\ d\\theta$$ Recall that one of the Pythagorean Identities states that $ \\sec^2(\\theta) = 1 + \\tan^2(\\theta).$ Therefore, we can use this identity to obtain the integral $$\\int \\dfrac{2 \\sec^2(\\theta)}{\\sqrt{4\\sec^2(\\theta)}} \\ d\\theta = \\int \\dfrac{2 \\sec^2(\\theta)}{2 |\\sec(\\theta)]} \\ d\\theta.$$ By our restriction on $\\theta$, we have that $|\\sec(\\theta)| = \\sec(\\theta).$ Therefore, our integral simplifies to $$\\int \\sec(\\theta) \\ d\\theta = \\ln|\\sec(\\theta) + \\tan(\\theta)| + C.$$ We now have to change our answer back in terms of $x$. Since we know that $x = 2 \\tan(\\theta)$, we have that $\\tan(x) = \\frac{x}{2}$ and $\\sec(x) = \\frac{\\sqrt{4 + x^2}}{2}.$ Therefore, our final answer is $$\\ln \\left | \\dfrac{\\sqrt{x + 4}}{2} + \\dfrac{x}{2} \\right | + C.$$"
   ]
  },
  {
   "cell_type": "code",
   "execution_count": null,
   "metadata": {},
   "outputs": [],
   "source": [
    "def f(x):\n",
    "    return 1/sqrt(4 + x^2)\n",
    "t = var('t')\n",
    "g(t) = f(x).substitute(x = 2*tan(t)) * 2*sec(t)^2\n",
    "g(t).full_simplify()\n",
    "show(integrate(g(t),t,hold=true))"
   ]
  },
  {
   "cell_type": "code",
   "execution_count": null,
   "metadata": {},
   "outputs": [],
   "source": []
  }
 ],
 "metadata": {
  "kernelspec": {
   "display_name": "SageMath 8.9",
   "language": "sage",
   "name": "sagemath"
  },
  "language_info": {
   "codemirror_mode": {
    "name": "ipython",
    "version": 2
   },
   "file_extension": ".py",
   "mimetype": "text/x-python",
   "name": "python",
   "nbconvert_exporter": "python",
   "pygments_lexer": "ipython2",
   "version": "2.7.15"
  }
 },
 "nbformat": 4,
 "nbformat_minor": 2
}
