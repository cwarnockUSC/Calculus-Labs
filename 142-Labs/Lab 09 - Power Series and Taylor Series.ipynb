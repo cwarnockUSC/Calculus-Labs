{
 "cells": [
  {
   "cell_type": "markdown",
   "metadata": {
    "deletable": false,
    "editable": false
   },
   "source": [
    "<center> <h1> Lab 09 - Power Series and Taylor Series </h1> </center>\n",
    " \n",
    "## Overview\n",
    "\n",
    "There are two fundamental questions to ask about a power series $\\displaystyle \\sum_{n=0}^\\infty c_n(x-a)^n.$\n",
    "1. For what values of $x$ does the infinite sum converge?\n",
    "2. When the series converges, to what function does it converge? Notice that, in this case, the series is the Taylor series of the function.\n",
    "\n",
    "We can answer the first question by finding the radius of convergence using the ratio test for absolute convergence and then checking the endpoints if needed.\n",
    "\n",
    "The second question, is in general, much more difficult to answer. One useful technique is to apply common operation (substitution, multiplication, division, differntiation, integration, $\\dots$) to a known power series, such as the Taylor series of a basic function. Also, SageMath can usually determine the function that a series converges to.\n",
    "\n",
    "One important application of power series is to approximate a function using partial sums of its Taylor series, known as Taylor polynomials. The accuracy of the approximation depends on the size of the interval called for and the number of terms used in the partial sum. We will visualize this approximation using SageMath.\n",
    "\n",
    "### Related Course Material\n",
    "    Sections 10.7 - 10.9 \n",
    "    Be sure to know the following basic Taylor series.\n",
    "$$\\begin{array}{ll} \n",
    "1) \\ \\ \\dfrac{1}{1-x} = \\displaystyle\\sum_{n=0}^\\infty x^n, \\ \\ -1 < x < 1 & \n",
    "\\hspace{.5in} 2) \\ \\ e^x = \\displaystyle\\sum_{n=0}^\\infty \\dfrac{x^n}{n!}, \\ \\ -\\infty < x < \\infty \\\\\n",
    "3) \\ \\ \\sin(x) = \\displaystyle\\sum_{n=0}^\\infty \\dfrac{(-1)^nx^{2n+1}}{(2n+1)!}, \\ \\ -\\infty < x < \\infty &\n",
    "\\hspace{.5in} 4) \\ \\ \\cos(x) = \\displaystyle\\sum_{n=0}^\\infty \\dfrac{(-1)^nx^{2n}}{(2n)!}, \\ \\ -\\infty < x < \\infty \\\\\n",
    "5) \\ \\ \\ln(1 + x) = \\displaystyle\\sum_{n=0}^\\infty \\dfrac{(-1)^n x^{n+1}}{n+1}, \\ \\ -1 < x \\leq 1 & \n",
    "\\end{array}$$"
   ]
  },
  {
   "cell_type": "markdown",
   "metadata": {
    "deletable": false,
    "editable": false
   },
   "source": [
    "## Example 1\n",
    "\n",
    "Consider the power series $\\displaystyle \\sum_{n=0}^\\infty \\dfrac{x^{n+1}}{(n+1)5^{n+1}}.$ We will\n",
    "1. Find the interval of convergence and radius of convergence of this series.\n",
    "2. Find the function which this series converges to.\n",
    "3. Plot approximations of the function using the first 10 partial sums of its Taylor series.\n",
    "\n",
    "We will find the interval of convergence for the series using the ratio test for absolute convergence. We first define the terms $a_n$ in SageMath."
   ]
  },
  {
   "cell_type": "code",
   "execution_count": null,
   "metadata": {},
   "outputs": [],
   "source": [
    "n = var('n')\n",
    "def a(n):      \n",
    "    return x^(n+1)/((n+1)*5^(n+1))"
   ]
  },
  {
   "cell_type": "markdown",
   "metadata": {
    "deletable": false,
    "editable": false
   },
   "source": [
    "The first step in the ratio test for absolute convergence is to find all $x$ that make $\\rho = \\displaystyle \\lim_{n\\rightarrow \\infty} \\dfrac{|a_{n+1}|}{|a_n|} < 1.$ Let us find an expression for $\\rho$."
   ]
  },
  {
   "cell_type": "code",
   "execution_count": null,
   "metadata": {},
   "outputs": [],
   "source": [
    "r = abs(a(n+1)/a(n))\n",
    "rho = limit(r, n=infinity)\n",
    "show(rho)"
   ]
  },
  {
   "cell_type": "markdown",
   "metadata": {
    "deletable": false,
    "editable": false
   },
   "source": [
    "Therefore, we need to find all $x$ such that $\\frac{|x|}{5} < 1$. We can easily solve this inequality and get $-5 < x < 5.$ We also could have used SageMath."
   ]
  },
  {
   "cell_type": "code",
   "execution_count": null,
   "metadata": {
    "scrolled": true
   },
   "outputs": [],
   "source": [
    "solve(rho < 1, x)"
   ]
  },
  {
   "cell_type": "markdown",
   "metadata": {
    "deletable": false,
    "editable": false
   },
   "source": [
    "Therefore, the radius of convergence is 5. We need to check the what happens at the endpoints $x=-5$ and $x=5$. We will create the sum in SageMath and evaluate it at these endpoints. In order to define the sum, we need to use the $\\textbf{assume}$ command to force $x$ to be in the interval of convergence."
   ]
  },
  {
   "cell_type": "code",
   "execution_count": null,
   "metadata": {},
   "outputs": [],
   "source": [
    "forget()      ## To forget any assumptions that may have already been made\n",
    "assume(x<=5)\n",
    "assume(x>=-5)\n",
    "S = sum(a(n),n,0,infinity)\n",
    "print(S.substitute(x = -5))\n",
    "print(S.substitute(x = 5))\n",
    "forget()     ## It's good to forget assumptions once you are done with them so they don't affect your later calculations"
   ]
  },
  {
   "cell_type": "markdown",
   "metadata": {
    "deletable": false,
    "editable": false
   },
   "source": [
    "Therefore, we see that the series converges at $x = -5$ but diverges at $x = 5$. Thus, the interval of convergence is $[-5,5).$ We can find the function that the series converges to by simply returning the expression $S$ which we created earlier."
   ]
  },
  {
   "cell_type": "code",
   "execution_count": null,
   "metadata": {},
   "outputs": [],
   "source": [
    "S"
   ]
  },
  {
   "cell_type": "markdown",
   "metadata": {
    "deletable": false,
    "editable": false
   },
   "source": [
    "Remember that SageMath uses $\\log$ for $\\ln$. It follows that $\\displaystyle \\sum_{n=0}^\\infty \\dfrac{x^{n+1}}{(n+1)5^{n+1}} =  -\\ln\\left(1 - \\dfrac{x}{5}\\right)$ for $x\\in[-5,5).$ Note that we could have found this without using SageMath by using the Taylor series for $\\ln(1 + x)$ given above and replacing $x$ with $-\\frac{x}{5}.$ Now that we have found the function which the power series converges to, we will use the interactive plotting function $\\textbf{Plot_Taylor_Polynomials}$ located in the t $\\textbf{uofsc_calculus_labs}$ package."
   ]
  },
  {
   "cell_type": "code",
   "execution_count": null,
   "metadata": {},
   "outputs": [],
   "source": [
    "from uofsc_calculus_labs import Plot_Taylor_Polynomials"
   ]
  },
  {
   "cell_type": "markdown",
   "metadata": {
    "deletable": false,
    "editable": false
   },
   "source": [
    "Recall that if you get the error \"No module named uofsc_calculus_labs\", then you need to install it using the following code."
   ]
  },
  {
   "cell_type": "code",
   "execution_count": null,
   "metadata": {
    "scrolled": true
   },
   "outputs": [],
   "source": [
    "%pip install uofsc_calculus_labs"
   ]
  },
  {
   "cell_type": "code",
   "execution_count": null,
   "metadata": {},
   "outputs": [],
   "source": [
    "from uofsc_calculus_labs import Plot_Taylor_Polynomials"
   ]
  },
  {
   "cell_type": "markdown",
   "metadata": {
    "deletable": false,
    "editable": false
   },
   "source": [
    "## Example 2\n",
    "\n",
    "For the following power series, do the following:\n",
    "1. Find the interval of convergence and radius of convergence of the series.\n",
    "2. Find the function which the series converges to.\n",
    "3. Use the interactive plotting tool to plot approximations of the function using the first 10 partial sums of its Taylor series.\n",
    "\n",
    "$$\\begin{array}{lll} a) \\ \\ \\displaystyle\\sum_{n=0}^\\infty x^{2n} & \\hspace{.6in} b) \\ \\ \\displaystyle\\sum_{n=0}^\\infty \\dfrac{x^{n+1}}{n!} & \\hspace{.6in} c) \\ \\ \\displaystyle\\sum_{n=0}^\\infty \\dfrac{(-1)^nx^{2n}}{(2n+1)!} \\\\\n",
    "d) \\ \\ \\displaystyle\\sum_{n=0}^\\infty nx^{n-1} & \\hspace{.6in} e) \\ \\ \\displaystyle\\sum_{n=0}^\\infty n(n-1)x^{n-2} & \\hspace{.6in} f) \\ \\ \\displaystyle\\sum_{n=0}^\\infty \\dfrac{x^{n+1}}{n+1} \\\\\n",
    "g) \\ \\ \\displaystyle\\sum_{n=0}^\\infty (x-1)^n & \\hspace{.6in} h) \\ \\ \\displaystyle\\sum_{n=0}^\\infty \\dfrac{(x - x^2)^n}{n!} & \\hspace{.6in} i) \\ \\ \\displaystyle\\sum_{n=0}^\\infty \\dfrac{x^{2n+1}}{2n+1} \n",
    "\\end{array}$$"
   ]
  },
  {
   "cell_type": "code",
   "execution_count": null,
   "metadata": {},
   "outputs": [],
   "source": []
  }
 ],
 "metadata": {
  "kernelspec": {
   "display_name": "SageMath 9.2",
   "language": "sage",
   "name": "sagemath"
  },
  "language_info": {
   "codemirror_mode": {
    "name": "ipython",
    "version": 3
   },
   "file_extension": ".py",
   "mimetype": "text/x-python",
   "name": "python",
   "nbconvert_exporter": "python",
   "pygments_lexer": "ipython3",
   "version": "3.8.5"
  }
 },
 "nbformat": 4,
 "nbformat_minor": 2
}
